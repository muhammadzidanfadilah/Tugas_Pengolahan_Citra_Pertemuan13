{
 "cells": [
  {
   "cell_type": "code",
   "execution_count": 5,
   "id": "f1d25775-2f12-495e-aa20-abd8156e5dab",
   "metadata": {},
   "outputs": [
    {
     "name": "stdout",
     "output_type": "stream",
     "text": [
      "Extracted text (limited to first 100 characters): ÖØ·ÝB\f",
      "Õ|ª&c)¸r:ÝS±Jâ±¹ZOMZ?ËêA\tÖ³62äøO¦:ª»c´\u000fÿ%¸êßÚKÎ¶¦ÜT\u0001È!0\u0017À\u00076ãÛú±É#rOüt\u0019\u0014æ¿§\u000eªÔkH\n"
     ]
    }
   ],
   "source": [
    "from PIL import Image\n",
    "\n",
    "def hide_text(image_path, secret_text, output_path):\n",
    "    # Buka gambar\n",
    "    image = Image.open(image_path)\n",
    "    \n",
    "    # Konversi teks rahasia ke biner\n",
    "    binary_secret_text = ''.join(format(ord(char), '08b') for char in secret_text)\n",
    "    \n",
    "    # Periksa apakah gambar dapat menampung teks rahasia\n",
    "    image_capacity = image.width * image.height * 3\n",
    "    if len(binary_secret_text) > image_capacity:\n",
    "        raise ValueError(\"Image does not have sufficient capacity to hide the secret text.\")\n",
    "    \n",
    "    # Menyembunyikan teks rahasia ke dalam gambar\n",
    "    pixels = image.load()\n",
    "    index = 0\n",
    "    for i in range(image.width):\n",
    "        for j in range(image.height):\n",
    "            r, g, b = pixels[i, j]\n",
    "            \n",
    "            # Modifikasi bit paling tidak signifikan dari setiap saluran warna\n",
    "            if index < len(binary_secret_text):\n",
    "                r = (r & 0xFE) | int(binary_secret_text[index])\n",
    "                index += 1\n",
    "            if index < len(binary_secret_text):\n",
    "                g = (g & 0xFE) | int(binary_secret_text[index])\n",
    "                index += 1\n",
    "            if index < len(binary_secret_text):\n",
    "                b = (b & 0xFE) | int(binary_secret_text[index])\n",
    "                index += 1\n",
    "            \n",
    "            pixels[i, j] = (r, g, b)\n",
    "    \n",
    "    # Menyimpan gambar dengan teks tersembunyi\n",
    "    image.save(output_path)\n",
    "\n",
    "def extract_text(image_path):\n",
    "    # Buka gambar\n",
    "    image = Image.open(image_path)\n",
    "    \n",
    "    # Ekstrak teks rahasia dari gambar\n",
    "    pixels = image.load()\n",
    "    binary_secret_text = \"\"\n",
    "    for i in range(image.width):\n",
    "        for j in range(image.height):\n",
    "            r, g, b = pixels[i, j]\n",
    "            \n",
    "            # Ekstrak bit paling tidak signifikan dari setiap saluran warna\n",
    "            binary_secret_text += str(r & 1)\n",
    "            binary_secret_text += str(g & 1)\n",
    "            binary_secret_text += str(b & 1)\n",
    "    \n",
    "    # Ubah teks biner menjadi ASCII\n",
    "    secret_text = \"\"\n",
    "    for i in range(0, len(binary_secret_text), 8):\n",
    "        byte = binary_secret_text[i:i+8]\n",
    "        if len(byte) == 8:\n",
    "            secret_text += chr(int(byte, 2))\n",
    "        else:\n",
    "            break  # Stop if the remaining bits are less than 8\n",
    "    \n",
    "    return secret_text\n",
    "\n",
    "# Menyembunyikan teks rahasia dalam gambar\n",
    "image_path = 'image.jpg'  # Ganti dengan path yang benar jika perlu\n",
    "secret_text = 'This is a secret message.'\n",
    "output_path = 'output_image.jpg'\n",
    "hide_text(image_path, secret_text, output_path)\n",
    "\n",
    "# Ekstrak teks rahasia dari gambar\n",
    "extracted_text = extract_text(output_path)\n",
    "\n",
    "# Batasi jumlah teks yang dicetak untuk menghindari masalah IOPub data rate\n",
    "print(\"Extracted text (limited to first 100 characters):\", extracted_text[:100])\n",
    "\n",
    "# Simpan teks yang diekstrak ke file dengan encoding UTF-8\n",
    "with open('extracted_text.txt', 'w', encoding='utf-8') as file:\n",
    "    file.write(extracted_text)\n"
   ]
  },
  {
   "cell_type": "code",
   "execution_count": null,
   "id": "e1a606ef-ee4e-4cd3-b9a5-44389f7aab92",
   "metadata": {},
   "outputs": [],
   "source": []
  },
  {
   "cell_type": "code",
   "execution_count": null,
   "id": "954aca3e-b77b-4fcc-82a0-c21ba99292d9",
   "metadata": {},
   "outputs": [],
   "source": []
  }
 ],
 "metadata": {
  "kernelspec": {
   "display_name": "Python 3 (ipykernel)",
   "language": "python",
   "name": "python3"
  },
  "language_info": {
   "codemirror_mode": {
    "name": "ipython",
    "version": 3
   },
   "file_extension": ".py",
   "mimetype": "text/x-python",
   "name": "python",
   "nbconvert_exporter": "python",
   "pygments_lexer": "ipython3",
   "version": "3.12.2"
  }
 },
 "nbformat": 4,
 "nbformat_minor": 5
}
