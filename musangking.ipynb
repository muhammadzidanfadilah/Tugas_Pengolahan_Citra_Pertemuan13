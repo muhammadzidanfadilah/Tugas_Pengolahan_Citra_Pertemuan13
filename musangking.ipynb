{
 "cells": [
  {
   "cell_type": "code",
   "execution_count": 6,
   "id": "b6e683a3-07b5-47fc-aadd-876998f33b2c",
   "metadata": {},
   "outputs": [
    {
     "name": "stdout",
     "output_type": "stream",
     "text": [
      "Ç\u0003ÖÅÒðlyé«z,±Ë/*Hí\u001bK×éQÃ:D\u000b",
      "6¢@gcÄìp²p­´³!ß¡\u001b­|çï\u0015ÊÄ8D$(²MybÁä\u0002DÙç>÷\u0018°\u001f¨VÌ«8¨ÚR\u0011\u001alyÂ6Û\u0007üëm©[IÛACm\u0003ó£wcØ½Ú2qÛË&VÎ²â=\n",
      "!¿´´P£ö+\u001f 2\n"
     ]
    }
   ],
   "source": [
    "from PIL import Image\n",
    "\n",
    "def hide_text(image_path, secret_text, output_path):\n",
    "    # Open gambar\n",
    "    image = Image.open(image_path)\n",
    "    \n",
    "    # Convert teks rahasia ke binari\n",
    "    binary_secret_text = ''.join(format(ord(char), '08b') for char in secret_text)\n",
    "    \n",
    "    # Check if the image can accommodate the secret text\n",
    "    image_capacity = image.width * image.height * 3\n",
    "    if len(binary_secret_text) > image_capacity:\n",
    "        raise ValueError(\"Image does not have sufficient capacity to hide the secret text.\")\n",
    "    \n",
    "    # Menyembunyikan teks rahasia ke dalam gambar \n",
    "    pixels = image.load()\n",
    "    index = 0\n",
    "    for i in range(image.width):\n",
    "        for j in range(image.height):\n",
    "            r, g, b = pixels[i, j]\n",
    "            \n",
    "            # Modify the least significant bit of each color channel\n",
    "            if index < len(binary_secret_text):\n",
    "                r = (r & 0xFE) | int(binary_secret_text[index])\n",
    "                index += 1\n",
    "            if index < len(binary_secret_text):\n",
    "                g = (g & 0xFE) | int(binary_secret_text[index])\n",
    "                index += 1\n",
    "            if index < len(binary_secret_text):\n",
    "                b = (b & 0xFE) | int(binary_secret_text[index])\n",
    "                index += 1\n",
    "                \n",
    "            pixels[i, j] = (r, g, b)\n",
    "            \n",
    "    # Menyimpan gambar dan menyembunyikan\n",
    "    image.save(output_path)\n",
    "\n",
    "def extract_text(image_path):\n",
    "    # Open gambar\n",
    "    image = Image.open(image_path)\n",
    "    \n",
    "    # Tampilkan teks rahasia dari gambar\n",
    "    pixels = image.load()\n",
    "    binary_secret_text = \"\"\n",
    "    for i in range(image.width):\n",
    "        for j in range(image.height):\n",
    "            r, g, b = pixels[i, j]\n",
    "            \n",
    "            # Extract bit paling tidak signifikan dari setiap saluran warna\n",
    "            binary_secret_text += str(r & 1)\n",
    "            binary_secret_text += str(g & 1)\n",
    "            binary_secret_text += str(b & 1)\n",
    "            \n",
    "    # Ubah teks binar menjadi ASCII\n",
    "    secret_text = \"\"\n",
    "    for i in range(0, len(binary_secret_text), 8):\n",
    "        byte = binary_secret_text[i:i+8]\n",
    "        if byte != '00000000':  # Menghentikan konversi saat bertemu dengan byte null\n",
    "            secret_text += chr(int(byte, 2))\n",
    "        else:\n",
    "            break\n",
    "            \n",
    "    return secret_text\n",
    "\n",
    "# Menyembunyikan teks rahasia dalam gambar\n",
    "image_path = 'image.jpg'\n",
    "secret_text = 'This is a secret message.'\n",
    "output_path = 'output_image.jpg'\n",
    "hide_text(image_path, secret_text, output_path)\n",
    "\n",
    "# Ekstrak teks rahasia dari gambar\n",
    "extracted_text = extract_text(output_path)\n",
    "print(\"Extracted text:\", extracted_text)\n"
   ]
  },
  {
   "cell_type": "code",
   "execution_count": null,
   "id": "24a753db-5eca-4c01-a5f3-849678b824de",
   "metadata": {},
   "outputs": [],
   "source": []
  }
 ],
 "metadata": {
  "kernelspec": {
   "display_name": "Python 3 (ipykernel)",
   "language": "python",
   "name": "python3"
  },
  "language_info": {
   "codemirror_mode": {
    "name": "ipython",
    "version": 3
   },
   "file_extension": ".py",
   "mimetype": "text/x-python",
   "name": "python",
   "nbconvert_exporter": "python",
   "pygments_lexer": "ipython3",
   "version": "3.10.8"
  }
 },
 "nbformat": 4,
 "nbformat_minor": 5
}
